{
 "cells": [
  {
   "cell_type": "markdown",
   "id": "9e60e209-e29b-411c-b0f3-dafcaf5ff4ac",
   "metadata": {},
   "source": [
    "## Regression Model for Predicting Concrete Strength\n",
    "\n",
    "This is an exercise to build a regression model using the Keras library to model data about concrete compressive strength.\n",
    "The concrete data include the following predictors:\n",
    "\n",
    "1. Cement\n",
    "2. Blast Furnace Slag\n",
    "3. Fly Ash\n",
    "4. Water\n",
    "5. Superplasticizer\n",
    "6. Coarse Aggregate\n",
    "7. Fine Aggregate\n",
    "8. Age\n",
    "\n",
    "This code will be broken down into: \n",
    "Part A - A baseline NN model \n",
    "Part B - Normalizing the data\n",
    "Part C - Increasing the number of epochs\n",
    "Part D - Increasing the number of hidden layers"
   ]
  },
  {
   "cell_type": "markdown",
   "id": "1f59cb2e-ee57-4669-8561-650ccf4abd65",
   "metadata": {},
   "source": [
    "### Part A\n",
    "Building a baseline neural network model using the Keras library"
   ]
  },
  {
   "cell_type": "code",
   "execution_count": null,
   "execution_count": 33,
   "id": "2fdca34c-08a9-4311-a5f5-d4fe9b89bf2b",
   "metadata": {},
   "outputs": [],
   "source": [
    "import pandas\n",
    "import numpy\n",
    "import keras"
    "# Import some necessary libraries\n",
    "import pandas as pd\n",
    "import numpy as np\n",
    "import keras\n",
    "import sklearn"
   ]
  },
   ]
  }
 ],
 "metadata": {
  "kernelspec": {
   "display_name": "Python 3 (ipykernel)",
   "language": "python",
   "name": "python3"
  },
  "language_info": {
   "codemirror_mode": {
    "name": "ipython",
    "version": 3
   },
   "file_extension": ".py",
   "mimetype": "text/x-python",
   "name": "python",
   "nbconvert_exporter": "python",
   "pygments_lexer": "ipython3",
   "version": "3.12.4"
  }
 },
 "nbformat": 4,
 "nbformat_minor": 5
}
